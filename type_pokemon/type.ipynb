{
 "cells": [
  {
   "cell_type": "code",
   "execution_count": 260,
   "metadata": {},
   "outputs": [
    {
     "data": {
      "text/plain": [
       "[['Nom', 'Points de vie', 'Attaque', 'Type'],\n",
       " ['Ecayon', '49', '49', 'Eau'],\n",
       " ['Tiplouf', '53', '51', 'Eau'],\n",
       " ['Carabaffe', '59', '63', 'Eau'],\n",
       " ['Prinplouf', '64', '66', 'Eau'],\n",
       " ['Gobou', '50', '70', 'Eau'],\n",
       " ['Gamblast', '71', '73', 'Eau'],\n",
       " ['Mateloutre', '75', '75', 'Eau'],\n",
       " ['Tarpaud', '90', '75', 'Eau'],\n",
       " ['Crocrodil', '65', '80', 'Eau'],\n",
       " ['Phione', '80', '80', 'Eau'],\n",
       " ['Rosabyss', '55', '84', 'Eau'],\n",
       " ['Bargantua', '70', '92', 'Eau'],\n",
       " ['Poissoroy', '80', '92', 'Eau'],\n",
       " ['Clamiral', '95', '100', 'Eau'],\n",
       " ['Octillery', '75', '105', 'Eau'],\n",
       " ['Aligatueur', '85', '105', 'Eau'],\n",
       " ['Nucleos', '45', '30', 'Psy'],\n",
       " ['Deoxys', '50', '70', 'Psy'],\n",
       " ['Deoxys', '50', '95', 'Psy'],\n",
       " ['Deoxys', '50', '150', 'Psy'],\n",
       " ['Deoxys', '50', '180', 'Psy'],\n",
       " ['Spoink', '60', '25', 'Psy'],\n",
       " ['Mesmerella', '60', '45', 'Psy'],\n",
       " ['Siderella', '70', '55', 'Psy'],\n",
       " ['Eoko', '75', '50', 'Psy'],\n",
       " ['Crefadet', '75', '125', 'Psy'],\n",
       " ['Munna', '76', '25', 'Psy'],\n",
       " ['Groret', '80', '45', 'Psy'],\n",
       " ['Okeoke', '95', '23', 'Psy'],\n",
       " ['Mew', '100', '100', 'Psy'],\n",
       " ['Mewtwo', '106', '110', 'Psy'],\n",
       " ['Mewtwo', '106', '150', 'Psy'],\n",
       " ['Mewtwo', '106', '190', 'Psy'],\n",
       " ['Symbios', '110', '65', 'Psy']]"
      ]
     },
     "execution_count": 260,
     "metadata": {},
     "output_type": "execute_result"
    }
   ],
   "source": [
    "import csv\n",
    "\n",
    "pokemons = []\n",
    "\n",
    "with open(\"./pokemon.csv\", 'r') as file:\n",
    "  csvreader = csv.reader(file)\n",
    "  for row in csvreader:\n",
    "    pokemons.append(row)\n",
    "  \n",
    "pokemons"
   ]
  },
  {
   "cell_type": "code",
   "execution_count": 261,
   "metadata": {},
   "outputs": [
    {
     "data": {
      "text/plain": [
       "[['Nucleos', '45', '30', 'Psy'],\n",
       " ['Deoxys', '50', '70', 'Psy'],\n",
       " ['Deoxys', '50', '95', 'Psy'],\n",
       " ['Deoxys', '50', '150', 'Psy'],\n",
       " ['Deoxys', '50', '180', 'Psy'],\n",
       " ['Spoink', '60', '25', 'Psy'],\n",
       " ['Mesmerella', '60', '45', 'Psy'],\n",
       " ['Siderella', '70', '55', 'Psy'],\n",
       " ['Eoko', '75', '50', 'Psy'],\n",
       " ['Crefadet', '75', '125', 'Psy'],\n",
       " ['Munna', '76', '25', 'Psy'],\n",
       " ['Groret', '80', '45', 'Psy'],\n",
       " ['Okeoke', '95', '23', 'Psy'],\n",
       " ['Mew', '100', '100', 'Psy'],\n",
       " ['Mewtwo', '106', '110', 'Psy'],\n",
       " ['Mewtwo', '106', '150', 'Psy'],\n",
       " ['Mewtwo', '106', '190', 'Psy'],\n",
       " ['Symbios', '110', '65', 'Psy']]"
      ]
     },
     "execution_count": 261,
     "metadata": {},
     "output_type": "execute_result"
    }
   ],
   "source": [
    "type_psy = []\n",
    "type_eau = []\n",
    "\n",
    "for pokemon in pokemons:\n",
    "    if 'Eau' in pokemon:\n",
    "        type_eau.append(pokemon)\n",
    "    elif 'Psy' in pokemon:\n",
    "        type_psy.append(pokemon)\n",
    "\n",
    "type_eau\n",
    "type_psy"
   ]
  },
  {
   "cell_type": "code",
   "execution_count": 262,
   "metadata": {},
   "outputs": [
    {
     "data": {
      "text/plain": [
       "[49, 51, 63, 66, 70, 73, 75, 75, 80, 80, 84, 92, 92, 100, 105, 105]"
      ]
     },
     "execution_count": 262,
     "metadata": {},
     "output_type": "execute_result"
    }
   ],
   "source": [
    "pv_type_spy = []\n",
    "degat_type_spy = []\n",
    "\n",
    "pv_type_eau = []\n",
    "degat_type_eau = []\n",
    "\n",
    "for pokemon in type_psy:\n",
    "    pv_type_spy.append(int(pokemon[1]))\n",
    "    degat_type_spy.append(int(pokemon[2]))\n",
    "\n",
    "for pokemon in type_eau:\n",
    "    pv_type_eau.append(int(pokemon[1]))\n",
    "    degat_type_eau.append(int(pokemon[2]))\n",
    "\n",
    "pv_type_spy\n",
    "degat_type_spy\n",
    "\n",
    "pv_type_eau\n",
    "degat_type_eau"
   ]
  },
  {
   "cell_type": "code",
   "execution_count": 263,
   "metadata": {},
   "outputs": [
    {
     "data": {
      "image/png": "[encoded data removed]",
      "text/plain": [
       "<Figure size 640x480 with 1 Axes>"
      ]
     },
     "metadata": {},
     "output_type": "display_data"
    }
   ],
   "source": [
    "import matplotlib.pyplot as plt\n",
    "\n",
    "plt.plot(pv_type_spy, degat_type_spy, 'ro')\n",
    "plt.plot(pv_type_eau, degat_type_eau, 'bo')\n",
    "plt.xlabel('Points de vie')\n",
    "plt.ylabel('Points de dégats')\n",
    "plt.show()"
   ]
  },
  {
   "cell_type": "code",
   "execution_count": 264,
   "metadata": {},
   "outputs": [],
   "source": [
    "from math import *\n",
    "\n",
    "def calculer_distance(x1, y1, x2, y2):\n",
    "    distance = int(sqrt((x1-x2)**2 + (y1-y2)**2))\n",
    "    return distance\n"
   ]
  },
  {
   "cell_type": "code",
   "execution_count": 265,
   "metadata": {},
   "outputs": [],
   "source": [
    "\n",
    "def plus_proche(nv_pokemon: list, type_psy: list, type_eau: list, k: int):\n",
    "    pokemons = type_psy + type_eau\n",
    "    distances = []\n",
    "\n",
    "    for pokemon in pokemons:\n",
    "        pokemon[1] = int(pokemon[1])\n",
    "        pokemon[2] = int(pokemon[2])\n",
    "        distances.append(calculer_distance(nv_pokemon[1], nv_pokemon[2], pokemon[1], pokemon[2]))\n",
    "\n",
    "    pokemon_distance = [i for _,i in sorted(zip(distances,pokemons))]\n",
    "    pokemon_k = []\n",
    "\n",
    "    eau = 0\n",
    "    psy = 0\n",
    "    for index in range(0, k):\n",
    "        pokemon_k.append(pokemon_distance[index])\n",
    "        if pokemon_k[index][3].lower() == 'eau':\n",
    "            eau += 1\n",
    "        elif pokemon_k[index][3].lower() == 'psy':\n",
    "            psy += 1\n",
    "    \n",
    "    if eau < psy:\n",
    "        print(\"Pokemon de type Psy\")\n",
    "    else:\n",
    "        print(\"Pokemon de type Eau\")\n",
    "    \n",
    "    return [nv_pokemon[1], nv_pokemon[2]]\n"
   ]
  },
  {
   "cell_type": "code",
   "execution_count": 266,
   "metadata": {},
   "outputs": [
    {
     "name": "stdout",
     "output_type": "stream",
     "text": [
      "Pokemon de type Eau\n"
     ]
    },
    {
     "data": {
      "image/png": "[encoded data removed]",
      "text/plain": [
       "<Figure size 640x480 with 1 Axes>"
      ]
     },
     "metadata": {},
     "output_type": "display_data"
    }
   ],
   "source": [
    "mon_pokemon = [\"\", 80, 80, None]\n",
    "\n",
    "resultat = plus_proche(mon_pokemon, type_psy, type_eau, 3)\n",
    "\n",
    "plt.plot(pv_type_spy, degat_type_spy, 'ro')\n",
    "plt.plot(pv_type_eau, degat_type_eau, 'bo')\n",
    "plt.plot(resultat[0], resultat[1], 'k*')\n",
    "plt.xlabel('Points de vie')\n",
    "plt.ylabel('Points de dégats')\n",
    "plt.show()"
   ]
  }
 ],
 "metadata": {
  "kernelspec": {
   "display_name": "Python 3.9.13 ('base')",
   "language": "python",
   "name": "python3"
  },
  "language_info": {
   "codemirror_mode": {
    "name": "ipython",
    "version": 3
   },
   "file_extension": ".py",
   "mimetype": "text/x-python",
   "name": "python",
   "nbconvert_exporter": "python",
   "pygments_lexer": "ipython3",
   "version": "3.9.13"
  },
  "orig_nbformat": 4,
  "vscode": {
   "interpreter": {
    "hash": "1596c6b9dbb35d779c934f15dc66093d022de10751e6f293f3995b2f249e3c2a"
   }
  }
 },
 "nbformat": 4,
 "nbformat_minor": 2
}
